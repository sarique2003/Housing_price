import pandas as pd
import numpy as np
import sklearn
from sklearn import linear_model
from sklearn.utils import shuffle
import matplotlib.pyplot as plot
import pickle
from matplotlib import style

#reading data
data=pd.read_csv('housing.csv')
data
#removing missing values
data=data.dropna()
#manipulating data
u=data.ocean_proximity.unique()
u

data['ocean_proximity']=data['ocean_proximity'].replace(['INLAND','NEAR BAY','<1H OCEAN','NEAR OCEAN','ISLAND'],[1,2,3,4,5])
data

#trimming data
data=data[['housing_median_age','total_rooms','total_bedrooms','population','households','median_income','ocean_proximity','median_house_value']]
data

#splitting
predict='median_house_value'
x=np.array(data.drop([predict],1))
y=np.array(data[predict])
x_train,x_test,y_train,y_test=sklearn.model_selection.train_test_split(x,y,test_size=0.1)

#training
best=0
for _ in range(100):
    
    x_train,x_test,y_train,y_test=sklearn.model_selection.train_test_split(x,y,test_size=0.1)
    #splits 10% of our data for testing 
    linear=linear_model.LinearRegression()
    #training data
    linear.fit(x_train,y_train) # going to fit x_train data and y_train data to find the best fit line
    acc=linear.score(x_test,y_test) #will tell the accuracy of our model
    print(acc)
    if acc>best:
        with open("housepricemodel.pickle",'wb') as f:
            pickle.dump(linear,f)
            
pickle_in=open("housepricemodel.pickle",'rb')
linear=pickle.load(pickle_in)

#testing
predictions=linear.predict(x_test)
for x in range(len(predictions)):
    print(predictions[x],x_test[x],y_test[x])


#here i am plotting graphs
p="housing_median_age"
style.use("ggplot")
plot.scatter(data[p],data['median_house_value'])
plot.xlabel(p)
plot.ylabel('house price')
plot.show()


p="total_rooms"
style.use("ggplot")
plot.scatter(data[p],data['median_house_value'])
plot.xlabel(p)
plot.ylabel('house price')
plot.show()

p="total_bedrooms"
style.use("ggplot")
plot.scatter(data[p],data['median_house_value'])
plot.xlabel(p)
plot.ylabel('house price')
plot.show()

p="population"
style.use("ggplot")
plot.scatter(data[p],data['median_house_value'])
plot.xlabel(p)
plot.ylabel('house price')
plot.show()

p="households"
style.use("ggplot")
plot.scatter(data[p],data['median_house_value'])
plot.xlabel(p)
plot.ylabel('house price')
plot.show()

p="ocean_proximity"
style.use("ggplot")
plot.scatter(data[p],data['median_house_value'])
plot.xlabel(p)
plot.ylabel('house price')
plot.show()
